{
 "cells": [
  {
   "cell_type": "markdown",
   "metadata": {},
   "source": [
    "## Sentiment Analysis for LEVI's jeans"
   ]
  },
  {
   "cell_type": "markdown",
   "metadata": {},
   "source": [
    "### Initial setup"
   ]
  },
  {
   "cell_type": "code",
   "execution_count": 9,
   "metadata": {
    "scrolled": false
   },
   "outputs": [],
   "source": [
    "import csv\n",
    "import pandas as pd\n",
    "import numpy as np\n",
    "import nltk \n",
    "nltk.download('punkt')\n",
    "nltk.download('stopwords')\n",
    "import re\n",
    "from bs4 import BeautifulSoup\n",
    "from nltk.tokenize import sent_tokenize\n",
    "from nltk.tokenize import word_tokenize\n",
    "from nltk.corpus import stopwords\n",
    "from vaderSentiment.vaderSentiment import SentimentIntensityAnalyzer\n",
    "import langid\n",
    "import warnings\n",
    "warnings.filterwarnings('ignore')\n",
    "import seaborn as sns\n",
    "from matplotlib import pyplot as plt"
   ]
  },
  {
   "cell_type": "markdown",
   "metadata": {},
   "source": [
    "### Functions"
   ]
  },
  {
   "cell_type": "code",
   "execution_count": 10,
   "metadata": {},
   "outputs": [],
   "source": [
    "def textPreProcess(rawText, removeHTML=True, charsToRemove = r'\\?|\\.|\\!|\\;|\\.|\\\"|\\,|\\'|\\(|\\)|\\&|\\:|\\-', removeNumbers=True, removeLineBreaks=False, specialCharsToRemove = r'[^\\x00-\\xfd]', convertToLower=True, removeConsecutiveSpaces=True):\n",
    "    cleanedText = []\n",
    "    for x in (rawText[:]): \n",
    "        \n",
    "        # Remove HTML\n",
    "        if removeHTML:\n",
    "            procText = BeautifulSoup(x,'html.parser').get_text()\n",
    "\n",
    "         # Remove punctuation and other special characters\n",
    "        if len(charsToRemove)>0:\n",
    "            procText = re.sub(charsToRemove,' ',procText)\n",
    "\n",
    "        # Remove numbers\n",
    "        if removeNumbers:\n",
    "            procText = re.sub(r'\\d+',' ',procText)\n",
    "\n",
    "        # Remove line breaks\n",
    "        if removeLineBreaks:\n",
    "            procText = procText.replace('\\n',' ').replace('\\r', '')\n",
    "\n",
    "        # Remove special characters\n",
    "        if len(specialCharsToRemove)>0:\n",
    "            procText = re.sub(specialCharsToRemove,' ',procText)\n",
    "\n",
    "        # Normalize to lower case\n",
    "        if convertToLower:\n",
    "            procText = procText.lower() \n",
    "\n",
    "        # Replace multiple consecutive spaces with just one space\n",
    "        if removeConsecutiveSpaces:\n",
    "            procText = re.sub(' +', ' ', procText)\n",
    "\n",
    "        # If there is a text, add it to the clean text         \n",
    "        if procText != '':\n",
    "            cleanedText.append(procText)\n",
    "    return cleanedText\n",
    "\n",
    "def tokenize_words(texts):\n",
    "    words_new = []\n",
    "    for w in (texts[:]):\n",
    "        w_token = word_tokenize(w)\n",
    "        if w_token != '':\n",
    "            words_new.append(w_token)\n",
    "    return words_new\n",
    "\n",
    "def recreateText(words):\n",
    "    text_new = []\n",
    "    for w in (words[:]):\n",
    "        temp_str = (' ').join(w)\n",
    "        text_new.append(temp_str)\n",
    "    return text_new\n",
    "\n",
    "def tokenize_sentences(texts):\n",
    "    sentences_new = []\n",
    "    for s in (texts[:]):\n",
    "        s_token = sent_tokenize(s)\n",
    "        sentences_new.append(s_token)\n",
    "    return sentences_new\n",
    "\n",
    "def removeStopWords(texts, stop_words):\n",
    "    procText = []\n",
    "    for t in (texts[:]):\n",
    "        cleaned_text = [w for w in t[:] if not w in stop_words]\n",
    "        procText.append(cleaned_text)\n",
    "    return procText\n",
    "\n",
    "def common_data(list1, list2):\n",
    "    result = False\n",
    "    for x in list1:\n",
    "        for y in list2:\n",
    "            if x == y:\n",
    "                result = True\n",
    "                return result\n",
    "    return result"
   ]
  },
  {
   "cell_type": "markdown",
   "metadata": {},
   "source": [
    "#  Importar xls"
   ]
  },
  {
   "cell_type": "markdown",
   "metadata": {},
   "source": [
    "### Antes"
   ]
  },
  {
   "cell_type": "code",
   "execution_count": 17,
   "metadata": {},
   "outputs": [],
   "source": [
    "dados_antes= pd.read_excel(\"Antes.xlsx\", engine= 'openpyxl')"
   ]
  },
  {
   "cell_type": "code",
   "execution_count": 18,
   "metadata": {},
   "outputs": [],
   "source": [
    "keywords=['Delivery','Service','Supply','Shipping','Transport','Deliverance','Bringing','Transfer','Transportation','Shipment','Availability','Fast','Slow','Quick'\n",
    ",'Speed','Time','Delay','Distribution','Providing','Flow','Dropped','Trading','Forwarding','Receipt','Arrival','Pickup']\n",
    "keywords = [low.lower() for low in keywords ]"
   ]
  },
  {
   "cell_type": "markdown",
   "metadata": {},
   "source": [
    "# ETL Das tabelas"
   ]
  },
  {
   "cell_type": "code",
   "execution_count": 19,
   "metadata": {
    "scrolled": false
   },
   "outputs": [],
   "source": [
    "dados_antes.dropna(subset=['Comentário'],inplace=True)\n",
    "dados_antes['Comentário']=dados_antes['Comentário'].astype(str)\n",
    "dados_antes['comentarios_limpos']=textPreProcess(dados_antes['Comentário'])\n",
    "dados_antes=dados_antes.drop(['Unnamed: 5','Unnamed: 6'],axis=1)"
   ]
  },
  {
   "cell_type": "markdown",
   "metadata": {},
   "source": [
    "# Detecção da Linguagem - Antes"
   ]
  },
  {
   "cell_type": "code",
   "execution_count": 20,
   "metadata": {
    "scrolled": true
   },
   "outputs": [],
   "source": [
    "languagelist=[]\n",
    "for texto in [*dados_antes['comentarios_limpos']]:\n",
    "    language=langid.classify(texto)\n",
    "    languagelist.append(language)\n",
    "languagelist=[language[0] for language in languagelist]\n",
    "dados_antes['language']=languagelist\n",
    "dados_en_antes=dados_antes.query(\"language=='en'\")"
   ]
  },
  {
   "cell_type": "markdown",
   "metadata": {},
   "source": [
    "# Analysis"
   ]
  },
  {
   "cell_type": "markdown",
   "metadata": {},
   "source": [
    "### Antes"
   ]
  },
  {
   "cell_type": "code",
   "execution_count": 22,
   "metadata": {},
   "outputs": [
    {
     "name": "stdout",
     "output_type": "stream",
     "text": [
      "Total de dados antes:  6454\n",
      "Total de comentários removidos:  5981\n",
      "Total de comentários analisados:  473\n"
     ]
    }
   ],
   "source": [
    "# Get words\n",
    "dados_en_antes['Words'] =  tokenize_words(dados_en_antes['comentarios_limpos'])\n",
    "\n",
    "# Remove stopwords\n",
    "stop_words = set(stopwords.words('english'))\n",
    "dados_en_antes['WordsCleaned'] = removeStopWords(dados_en_antes['Words'], stop_words)\n",
    "\n",
    "key=dados_en_antes.apply(lambda x: common_data(x['WordsCleaned'],keywords),axis=1)\n",
    "dados_en_antes['haskeyword']=key\n",
    "tamanho_total = len(dados_en_antes)\n",
    "dados_en_antes=dados_en_antes.query(\"haskeyword==True\")\n",
    "tamanho_com_keywords = len(dados_en_antes)\n",
    "dados_en_antes=dados_en_antes.reset_index(drop=True)\n",
    "\n",
    "# Recreate sentence without stopwords\n",
    "dados_en_antes['ProcessedText'] = recreateText(dados_en_antes['WordsCleaned'])\n",
    "\n",
    "dados_removidos = tamanho_total - tamanho_com_keywords\n",
    "\n",
    "print(\"Total de dados antes: \",tamanho_total)\n",
    "print(\"Total de comentários removidos: \", dados_removidos)\n",
    "print(\"Total de comentários analisados: \", tamanho_com_keywords)"
   ]
  },
  {
   "cell_type": "code",
   "execution_count": 27,
   "metadata": {},
   "outputs": [],
   "source": [
    "analyser = SentimentIntensityAnalyzer()\n",
    "# To test, let's evaluate first sentence of first review\n",
    "# Scales:\n",
    "#   compound: -1:most extreme negative, \n",
    "#   1:most extreme positive\n",
    "#     positive: compound >=0.05\n",
    "#     neutral: -0.05<compound<0.05\n",
    "#     negative: compound <= -0.05\n",
    "# #   pos, neu, neg: proportion of text that are positive, neutral or negative\n",
    "# score = analyser.polarity_scores(dados_en['ProcessedText'][1])\n",
    "# print(dados_en['ProcessedText'][1],score)\n",
    "\n",
    "all_scores = []\n",
    "for t in (dados_en_antes['ProcessedText']):\n",
    "    score = analyser.polarity_scores(t)\n",
    "    all_scores.append(score)\n",
    "dados_en_antes['Sentiment'] = [c['compound'] for c in all_scores]\n",
    "dados_en_antes['Positive'] = [c['pos'] for c in all_scores]\n",
    "dados_en_antes['Negative'] = [c['neg'] for c in all_scores]\n",
    "dados_en_antes['Neutral'] = [c['neu'] for c in all_scores]\n",
    "\n",
    "average_antes=dados_en_antes[['comentarios_limpos','Avaliação','Sentiment']].groupby('Avaliação').mean()[['Sentiment']]\n",
    "\n",
    "bins = pd.IntervalIndex.from_tuples([(-1.1, -0.05), (-0.05, 0.05), (0.05, 1)], closed='right')\n",
    "x = pd.cut(dados_en_antes['Sentiment'].to_list(), bins)\n",
    "x.categories = ['Negative','Neutral','Positive']\n",
    "dados_en_antes['Polarity'] = x"
   ]
  },
  {
   "cell_type": "code",
   "execution_count": 30,
   "metadata": {},
   "outputs": [
    {
     "data": {
      "text/html": [
       "<div>\n",
       "<style scoped>\n",
       "    .dataframe tbody tr th:only-of-type {\n",
       "        vertical-align: middle;\n",
       "    }\n",
       "\n",
       "    .dataframe tbody tr th {\n",
       "        vertical-align: top;\n",
       "    }\n",
       "\n",
       "    .dataframe thead th {\n",
       "        text-align: right;\n",
       "    }\n",
       "</style>\n",
       "<table border=\"1\" class=\"dataframe\">\n",
       "  <thead>\n",
       "    <tr style=\"text-align: right;\">\n",
       "      <th></th>\n",
       "      <th>CH1</th>\n",
       "      <th>Comentário</th>\n",
       "      <th>Avaliação</th>\n",
       "      <th>Data</th>\n",
       "      <th>Autor</th>\n",
       "      <th>comentarios_limpos</th>\n",
       "      <th>language</th>\n",
       "      <th>Words</th>\n",
       "      <th>WordsCleaned</th>\n",
       "      <th>haskeyword</th>\n",
       "      <th>ProcessedText</th>\n",
       "      <th>Sentiment</th>\n",
       "      <th>Polarity</th>\n",
       "      <th>Positive</th>\n",
       "      <th>Negative</th>\n",
       "      <th>Neutral</th>\n",
       "    </tr>\n",
       "  </thead>\n",
       "  <tbody>\n",
       "    <tr>\n",
       "      <th>0</th>\n",
       "      <td>CH1</td>\n",
       "      <td>Big mistake on my part. I forgot that Levi's 5...</td>\n",
       "      <td>1,0 de 5 estrelas</td>\n",
       "      <td>Avaliado nos Estados Unidos em 11;abril;2019</td>\n",
       "      <td>D. Harmon</td>\n",
       "      <td>big mistake on my part i forgot that levi s je...</td>\n",
       "      <td>en</td>\n",
       "      <td>[big, mistake, on, my, part, i, forgot, that, ...</td>\n",
       "      <td>[big, mistake, part, forgot, levi, jeans, awkw...</td>\n",
       "      <td>True</td>\n",
       "      <td>big mistake part forgot levi jeans awkward dif...</td>\n",
       "      <td>0.2247</td>\n",
       "      <td>Positive</td>\n",
       "      <td>0.167</td>\n",
       "      <td>0.153</td>\n",
       "      <td>0.681</td>\n",
       "    </tr>\n",
       "    <tr>\n",
       "      <th>1</th>\n",
       "      <td>CH1</td>\n",
       "      <td>While they fit as expected a belt loop broke t...</td>\n",
       "      <td>1,0 de 5 estrelas</td>\n",
       "      <td>Avaliado nos Estados Unidos em 30;setembro;2019</td>\n",
       "      <td>Mike</td>\n",
       "      <td>while they fit as expected a belt loop broke t...</td>\n",
       "      <td>en</td>\n",
       "      <td>[while, they, fit, as, expected, a, belt, loop...</td>\n",
       "      <td>[fit, expected, belt, loop, broke, second, tim...</td>\n",
       "      <td>True</td>\n",
       "      <td>fit expected belt loop broke second time wore ...</td>\n",
       "      <td>0.1027</td>\n",
       "      <td>Positive</td>\n",
       "      <td>0.105</td>\n",
       "      <td>0.070</td>\n",
       "      <td>0.825</td>\n",
       "    </tr>\n",
       "    <tr>\n",
       "      <th>2</th>\n",
       "      <td>CH1</td>\n",
       "      <td>This review is for the Dark Stonewash and Dark...</td>\n",
       "      <td>3,0 de 5 estrelas</td>\n",
       "      <td>Avaliado nos Estados Unidos em 16;janeiro;2019</td>\n",
       "      <td>SAM</td>\n",
       "      <td>this review is for the dark stonewash and dark...</td>\n",
       "      <td>en</td>\n",
       "      <td>[this, review, is, for, the, dark, stonewash, ...</td>\n",
       "      <td>[review, dark, stonewash, dark, charcoal, garm...</td>\n",
       "      <td>True</td>\n",
       "      <td>review dark stonewash dark charcoal garment dy...</td>\n",
       "      <td>0.7579</td>\n",
       "      <td>Positive</td>\n",
       "      <td>0.130</td>\n",
       "      <td>0.024</td>\n",
       "      <td>0.845</td>\n",
       "    </tr>\n",
       "  </tbody>\n",
       "</table>\n",
       "</div>"
      ],
      "text/plain": [
       "   CH1                                         Comentário          Avaliação  \\\n",
       "0  CH1  Big mistake on my part. I forgot that Levi's 5...  1,0 de 5 estrelas   \n",
       "1  CH1  While they fit as expected a belt loop broke t...  1,0 de 5 estrelas   \n",
       "2  CH1  This review is for the Dark Stonewash and Dark...  3,0 de 5 estrelas   \n",
       "\n",
       "                                              Data      Autor  \\\n",
       "0     Avaliado nos Estados Unidos em 11;abril;2019  D. Harmon   \n",
       "1  Avaliado nos Estados Unidos em 30;setembro;2019       Mike   \n",
       "2   Avaliado nos Estados Unidos em 16;janeiro;2019        SAM   \n",
       "\n",
       "                                  comentarios_limpos language  \\\n",
       "0  big mistake on my part i forgot that levi s je...       en   \n",
       "1  while they fit as expected a belt loop broke t...       en   \n",
       "2  this review is for the dark stonewash and dark...       en   \n",
       "\n",
       "                                               Words  \\\n",
       "0  [big, mistake, on, my, part, i, forgot, that, ...   \n",
       "1  [while, they, fit, as, expected, a, belt, loop...   \n",
       "2  [this, review, is, for, the, dark, stonewash, ...   \n",
       "\n",
       "                                        WordsCleaned  haskeyword  \\\n",
       "0  [big, mistake, part, forgot, levi, jeans, awkw...        True   \n",
       "1  [fit, expected, belt, loop, broke, second, tim...        True   \n",
       "2  [review, dark, stonewash, dark, charcoal, garm...        True   \n",
       "\n",
       "                                       ProcessedText  Sentiment  Polarity  \\\n",
       "0  big mistake part forgot levi jeans awkward dif...     0.2247  Positive   \n",
       "1  fit expected belt loop broke second time wore ...     0.1027  Positive   \n",
       "2  review dark stonewash dark charcoal garment dy...     0.7579  Positive   \n",
       "\n",
       "   Positive  Negative  Neutral  \n",
       "0     0.167     0.153    0.681  \n",
       "1     0.105     0.070    0.825  \n",
       "2     0.130     0.024    0.845  "
      ]
     },
     "execution_count": 30,
     "metadata": {},
     "output_type": "execute_result"
    }
   ],
   "source": [
    "dados_en_antes.head(3)"
   ]
  },
  {
   "cell_type": "code",
   "execution_count": 31,
   "metadata": {
    "scrolled": true
   },
   "outputs": [
    {
     "data": {
      "text/html": [
       "<div>\n",
       "<style scoped>\n",
       "    .dataframe tbody tr th:only-of-type {\n",
       "        vertical-align: middle;\n",
       "    }\n",
       "\n",
       "    .dataframe tbody tr th {\n",
       "        vertical-align: top;\n",
       "    }\n",
       "\n",
       "    .dataframe thead th {\n",
       "        text-align: right;\n",
       "    }\n",
       "</style>\n",
       "<table border=\"1\" class=\"dataframe\">\n",
       "  <thead>\n",
       "    <tr style=\"text-align: right;\">\n",
       "      <th></th>\n",
       "      <th>Sentiment</th>\n",
       "    </tr>\n",
       "    <tr>\n",
       "      <th>Avaliação</th>\n",
       "      <th></th>\n",
       "    </tr>\n",
       "  </thead>\n",
       "  <tbody>\n",
       "    <tr>\n",
       "      <th>1,0 de 5 estrelas</th>\n",
       "      <td>0.098223</td>\n",
       "    </tr>\n",
       "    <tr>\n",
       "      <th>2,0 de 5 estrelas</th>\n",
       "      <td>0.326625</td>\n",
       "    </tr>\n",
       "    <tr>\n",
       "      <th>3,0 de 5 estrelas</th>\n",
       "      <td>0.313139</td>\n",
       "    </tr>\n",
       "    <tr>\n",
       "      <th>4,0 de 5 estrelas</th>\n",
       "      <td>0.591498</td>\n",
       "    </tr>\n",
       "    <tr>\n",
       "      <th>5,0 de 5 estrelas</th>\n",
       "      <td>0.702391</td>\n",
       "    </tr>\n",
       "  </tbody>\n",
       "</table>\n",
       "</div>"
      ],
      "text/plain": [
       "                   Sentiment\n",
       "Avaliação                   \n",
       "1,0 de 5 estrelas   0.098223\n",
       "2,0 de 5 estrelas   0.326625\n",
       "3,0 de 5 estrelas   0.313139\n",
       "4,0 de 5 estrelas   0.591498\n",
       "5,0 de 5 estrelas   0.702391"
      ]
     },
     "execution_count": 31,
     "metadata": {},
     "output_type": "execute_result"
    }
   ],
   "source": [
    "average_antes"
   ]
  },
  {
   "cell_type": "markdown",
   "metadata": {},
   "source": [
    "# Agora, aplicando a análise para o arquivo \"Durante\""
   ]
  },
  {
   "cell_type": "code",
   "execution_count": 42,
   "metadata": {},
   "outputs": [],
   "source": [
    "dados_durante= pd.read_excel(\"Durante.xlsx\", engine='openpyxl')\n",
    "\n",
    "dados_durante.dropna(subset=['Comentário'],inplace=True)\n",
    "dados_durante['Comentário']=dados_durante['Comentário'].astype(str)\n",
    "dados_durante['comentarios_limpos']=textPreProcess(dados_durante['Comentário'])\n",
    "dados_durante=dados_durante.drop(['Unnamed: 5','Unnamed: 6'],axis=1)\n",
    "\n",
    "languagelist=[]\n",
    "for texto in [*dados_durante['comentarios_limpos']]:\n",
    "    language=langid.classify(texto)\n",
    "    languagelist.append(language)\n",
    "languagelist=[language[0] for language in languagelist]\n",
    "dados_durante['language']=languagelist\n",
    "dados_en_durante=dados_durante.query(\"language=='en'\")"
   ]
  },
  {
   "cell_type": "code",
   "execution_count": 43,
   "metadata": {},
   "outputs": [
    {
     "name": "stdout",
     "output_type": "stream",
     "text": [
      "Total de dados antes:  6125\n",
      "Total de comentários removidos:  5678\n",
      "Total de comentários analisados:  447\n"
     ]
    }
   ],
   "source": [
    "dados_en_durante['Words'] =  tokenize_words(dados_en_durante['comentarios_limpos'])\n",
    "\n",
    "# Remove stopwords\n",
    "stop_words = set(stopwords.words('english'))\n",
    "dados_en_durante['WordsCleaned'] = removeStopWords(dados_en_durante['Words'], stop_words)\n",
    "\n",
    "key=dados_en_durante.apply(lambda x: common_data(x['WordsCleaned'],keywords),axis=1)\n",
    "dados_en_durante['haskeyword']=key\n",
    "tamanho_total = len(dados_en_durante)\n",
    "dados_en_durante=dados_en_durante.query(\"haskeyword==True\")\n",
    "tamanho_com_keywords = len(dados_en_durante)\n",
    "dados_en_durante=dados_en_durante.reset_index(drop=True)\n",
    "dados_en_durante['ProcessedText'] = recreateText(dados_en_durante['WordsCleaned'])\n",
    "\n",
    "\n",
    "dados_removidos = tamanho_total - tamanho_com_keywords\n",
    "\n",
    "print(\"Total de dados antes: \",tamanho_total)\n",
    "print(\"Total de comentários removidos: \", dados_removidos)\n",
    "print(\"Total de comentários analisados: \", tamanho_com_keywords)"
   ]
  },
  {
   "cell_type": "code",
   "execution_count": 44,
   "metadata": {},
   "outputs": [
    {
     "data": {
      "text/html": [
       "<div>\n",
       "<style scoped>\n",
       "    .dataframe tbody tr th:only-of-type {\n",
       "        vertical-align: middle;\n",
       "    }\n",
       "\n",
       "    .dataframe tbody tr th {\n",
       "        vertical-align: top;\n",
       "    }\n",
       "\n",
       "    .dataframe thead th {\n",
       "        text-align: right;\n",
       "    }\n",
       "</style>\n",
       "<table border=\"1\" class=\"dataframe\">\n",
       "  <thead>\n",
       "    <tr style=\"text-align: right;\">\n",
       "      <th></th>\n",
       "      <th>CH1</th>\n",
       "      <th>Comentário</th>\n",
       "      <th>Avaliação</th>\n",
       "      <th>Data</th>\n",
       "      <th>Autor</th>\n",
       "      <th>comentarios_limpos</th>\n",
       "      <th>language</th>\n",
       "      <th>Words</th>\n",
       "      <th>WordsCleaned</th>\n",
       "      <th>haskeyword</th>\n",
       "      <th>ProcessedText</th>\n",
       "      <th>Sentiment</th>\n",
       "      <th>Positive</th>\n",
       "      <th>Negative</th>\n",
       "      <th>Neutral</th>\n",
       "      <th>Polarity</th>\n",
       "    </tr>\n",
       "  </thead>\n",
       "  <tbody>\n",
       "    <tr>\n",
       "      <th>0</th>\n",
       "      <td>CH1</td>\n",
       "      <td>DENIM QUALITY. These are not the Levi's I grew...</td>\n",
       "      <td>1,0 de 5 estrelas</td>\n",
       "      <td>Avaliado nos Estados Unidos em 16;julho;2021</td>\n",
       "      <td>IdyGal</td>\n",
       "      <td>denim quality these are not the levi s i grew ...</td>\n",
       "      <td>en</td>\n",
       "      <td>[denim, quality, these, are, not, the, levi, s...</td>\n",
       "      <td>[denim, quality, levi, grew, wearing, denim, t...</td>\n",
       "      <td>True</td>\n",
       "      <td>denim quality levi grew wearing denim thin mak...</td>\n",
       "      <td>0.6705</td>\n",
       "      <td>0.121</td>\n",
       "      <td>0.072</td>\n",
       "      <td>0.807</td>\n",
       "      <td>Positive</td>\n",
       "    </tr>\n",
       "    <tr>\n",
       "      <th>1</th>\n",
       "      <td>CH1</td>\n",
       "      <td>I have no idea what planet these people writin...</td>\n",
       "      <td>5,0 de 5 estrelas</td>\n",
       "      <td>Avaliado nos Estados Unidos em 24;agosto;2021</td>\n",
       "      <td>D. Metz</td>\n",
       "      <td>i have no idea what planet these people writin...</td>\n",
       "      <td>en</td>\n",
       "      <td>[i, have, no, idea, what, planet, these, peopl...</td>\n",
       "      <td>[idea, planet, people, writing, negative, revi...</td>\n",
       "      <td>True</td>\n",
       "      <td>idea planet people writing negative reviews li...</td>\n",
       "      <td>0.7605</td>\n",
       "      <td>0.112</td>\n",
       "      <td>0.058</td>\n",
       "      <td>0.830</td>\n",
       "      <td>Positive</td>\n",
       "    </tr>\n",
       "    <tr>\n",
       "      <th>2</th>\n",
       "      <td>CH1</td>\n",
       "      <td>My husband has had a difficult time finding Le...</td>\n",
       "      <td>5,0 de 5 estrelas</td>\n",
       "      <td>Avaliado nos Estados Unidos em 27;abril;2020</td>\n",
       "      <td>Linda J. Macdonald</td>\n",
       "      <td>my husband has had a difficult time finding le...</td>\n",
       "      <td>en</td>\n",
       "      <td>[my, husband, has, had, a, difficult, time, fi...</td>\n",
       "      <td>[husband, difficult, time, finding, levi, size...</td>\n",
       "      <td>True</td>\n",
       "      <td>husband difficult time finding levi size last ...</td>\n",
       "      <td>0.8784</td>\n",
       "      <td>0.231</td>\n",
       "      <td>0.095</td>\n",
       "      <td>0.673</td>\n",
       "      <td>Positive</td>\n",
       "    </tr>\n",
       "  </tbody>\n",
       "</table>\n",
       "</div>"
      ],
      "text/plain": [
       "   CH1                                         Comentário          Avaliação  \\\n",
       "0  CH1  DENIM QUALITY. These are not the Levi's I grew...  1,0 de 5 estrelas   \n",
       "1  CH1  I have no idea what planet these people writin...  5,0 de 5 estrelas   \n",
       "2  CH1  My husband has had a difficult time finding Le...  5,0 de 5 estrelas   \n",
       "\n",
       "                                            Data               Autor  \\\n",
       "0   Avaliado nos Estados Unidos em 16;julho;2021              IdyGal   \n",
       "1  Avaliado nos Estados Unidos em 24;agosto;2021             D. Metz   \n",
       "2   Avaliado nos Estados Unidos em 27;abril;2020  Linda J. Macdonald   \n",
       "\n",
       "                                  comentarios_limpos language  \\\n",
       "0  denim quality these are not the levi s i grew ...       en   \n",
       "1  i have no idea what planet these people writin...       en   \n",
       "2  my husband has had a difficult time finding le...       en   \n",
       "\n",
       "                                               Words  \\\n",
       "0  [denim, quality, these, are, not, the, levi, s...   \n",
       "1  [i, have, no, idea, what, planet, these, peopl...   \n",
       "2  [my, husband, has, had, a, difficult, time, fi...   \n",
       "\n",
       "                                        WordsCleaned  haskeyword  \\\n",
       "0  [denim, quality, levi, grew, wearing, denim, t...        True   \n",
       "1  [idea, planet, people, writing, negative, revi...        True   \n",
       "2  [husband, difficult, time, finding, levi, size...        True   \n",
       "\n",
       "                                       ProcessedText  Sentiment  Positive  \\\n",
       "0  denim quality levi grew wearing denim thin mak...     0.6705     0.121   \n",
       "1  idea planet people writing negative reviews li...     0.7605     0.112   \n",
       "2  husband difficult time finding levi size last ...     0.8784     0.231   \n",
       "\n",
       "   Negative  Neutral  Polarity  \n",
       "0     0.072    0.807  Positive  \n",
       "1     0.058    0.830  Positive  \n",
       "2     0.095    0.673  Positive  "
      ]
     },
     "execution_count": 44,
     "metadata": {},
     "output_type": "execute_result"
    }
   ],
   "source": [
    "analyser = SentimentIntensityAnalyzer()\n",
    "\n",
    "all_scores = []\n",
    "for t in (dados_en_durante['ProcessedText']):\n",
    "    score = analyser.polarity_scores(t)\n",
    "    all_scores.append(score)\n",
    "dados_en_durante['Sentiment'] = [c['compound'] for c in all_scores]\n",
    "dados_en_durante['Positive'] = [c['pos'] for c in all_scores]\n",
    "dados_en_durante['Negative'] = [c['neg'] for c in all_scores]\n",
    "dados_en_durante['Neutral'] = [c['neu'] for c in all_scores]\n",
    "\n",
    "average_durante=dados_en_durante[['comentarios_limpos','Avaliação','Sentiment']].groupby('Avaliação').mean()[['Sentiment']]\n",
    "\n",
    "bins = pd.IntervalIndex.from_tuples([(-1.1, -0.05), (-0.05, 0.05), (0.05, 1)], closed='right')\n",
    "x = pd.cut(dados_en_durante['Sentiment'].to_list(), bins)\n",
    "x.categories = ['Negative','Neutral','Positive']\n",
    "dados_en_durante['Polarity'] = x\n",
    "\n",
    "dados_en_durante.head(3)"
   ]
  },
  {
   "cell_type": "markdown",
   "metadata": {},
   "source": [
    "#  Resultados - Data Visualization "
   ]
  },
  {
   "cell_type": "markdown",
   "metadata": {},
   "source": [
    "Vimos que durante o COVID a análise de sentimento relacionada a logistica das calças Levi's tiveram um aumento positivo"
   ]
  },
  {
   "cell_type": "code",
   "execution_count": 45,
   "metadata": {},
   "outputs": [],
   "source": [
    "dados_en_durante['label']='durante'\n",
    "dados_en_antes['label']='antes'\n",
    "all_data = pd.concat([dados_en_antes, dados_en_durante],axis=0) "
   ]
  },
  {
   "cell_type": "code",
   "execution_count": 46,
   "metadata": {},
   "outputs": [
    {
     "data": {
      "text/plain": [
       "<AxesSubplot:xlabel='label', ylabel='Sentiment'>"
      ]
     },
     "execution_count": 46,
     "metadata": {},
     "output_type": "execute_result"
    },
    {
     "data": {
      "image/png": "[encoded data removed]",
      "text/plain": [
       "<Figure size 720x720 with 1 Axes>"
      ]
     },
     "metadata": {
      "needs_background": "light"
     },
     "output_type": "display_data"
    }
   ],
   "source": [
    "plt.figure(figsize=(10,10))\n",
    "sns.boxplot(data=all_data,y='Sentiment',x='label')"
   ]
  },
  {
   "cell_type": "code",
   "execution_count": 51,
   "metadata": {
    "scrolled": false
   },
   "outputs": [
    {
     "data": {
      "text/plain": [
       "<AxesSubplot:xlabel='Avaliação', ylabel='Sentiment'>"
      ]
     },
     "execution_count": 51,
     "metadata": {},
     "output_type": "execute_result"
    },
    {
     "data": {
      "image/png": "[encoded data removed]",
      "text/plain": [
       "<Figure size 720x432 with 1 Axes>"
      ]
     },
     "metadata": {
      "needs_background": "light"
     },
     "output_type": "display_data"
    }
   ],
   "source": [
    "plt.figure(figsize=(10,6))\n",
    "sns.barplot(data=all_data,y='Sentiment',x='Avaliação',hue='label')"
   ]
  },
  {
   "cell_type": "code",
   "execution_count": 52,
   "metadata": {},
   "outputs": [
    {
     "data": {
      "text/plain": [
       "<AxesSubplot:xlabel='label', ylabel='Positive'>"
      ]
     },
     "execution_count": 52,
     "metadata": {},
     "output_type": "execute_result"
    },
    {
     "data": {
      "image/png": "[encoded data removed]",
      "text/plain": [
       "<Figure size 432x288 with 1 Axes>"
      ]
     },
     "metadata": {
      "needs_background": "light"
     },
     "output_type": "display_data"
    }
   ],
   "source": [
    "sns.barplot(data=all_data,y='Positive',x='label')"
   ]
  }
 ],
 "metadata": {
  "kernelspec": {
   "display_name": "Python 3",
   "language": "python",
   "name": "python3"
  },
  "language_info": {
   "codemirror_mode": {
    "name": "ipython",
    "version": 3
   },
   "file_extension": ".py",
   "mimetype": "text/x-python",
   "name": "python",
   "nbconvert_exporter": "python",
   "pygments_lexer": "ipython3",
   "version": "3.9.5"
  }
 },
 "nbformat": 4,
 "nbformat_minor": 2
}
